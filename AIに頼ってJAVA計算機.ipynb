{
  "nbformat": 4,
  "nbformat_minor": 0,
  "metadata": {
    "colab": {
      "provenance": []
    },
    "kernelspec": {
      "name": "python3",
      "display_name": "Python 3"
    },
    "language_info": {
      "name": "python"
    }
  },
  "cells": [
    {
      "cell_type": "markdown",
      "source": [
        "colabにjavaをインストール"
      ],
      "metadata": {
        "id": "0ROArZP0IYem"
      }
    },
    {
      "cell_type": "code",
      "execution_count": null,
      "metadata": {
        "colab": {
          "base_uri": "https://localhost:8080/"
        },
        "id": "szEY281lFmFj",
        "outputId": "0fdd4701-9ac0-4df7-bf60-3897f0e62bd0"
      },
      "outputs": [
        {
          "output_type": "stream",
          "name": "stdout",
          "text": [
            "Hit:1 http://archive.ubuntu.com/ubuntu jammy InRelease\n",
            "Get:2 http://archive.ubuntu.com/ubuntu jammy-updates InRelease [128 kB]\n",
            "Hit:3 https://developer.download.nvidia.com/compute/cuda/repos/ubuntu2204/x86_64  InRelease\n",
            "Get:4 https://cloud.r-project.org/bin/linux/ubuntu jammy-cran40/ InRelease [3,626 B]\n",
            "Hit:5 http://archive.ubuntu.com/ubuntu jammy-backports InRelease\n",
            "Get:6 http://security.ubuntu.com/ubuntu jammy-security InRelease [129 kB]\n",
            "Hit:7 https://ppa.launchpadcontent.net/c2d4u.team/c2d4u4.0+/ubuntu jammy InRelease\n",
            "Get:8 http://archive.ubuntu.com/ubuntu jammy-updates/universe amd64 Packages [1,392 kB]\n",
            "Hit:9 https://ppa.launchpadcontent.net/deadsnakes/ppa/ubuntu jammy InRelease\n",
            "Hit:10 https://ppa.launchpadcontent.net/graphics-drivers/ppa/ubuntu jammy InRelease\n",
            "Hit:11 https://ppa.launchpadcontent.net/ubuntugis/ppa/ubuntu jammy InRelease\n",
            "Fetched 1,652 kB in 1s (1,106 kB/s)\n",
            "Reading package lists...\n",
            "openjdk version \"11.0.23\" 2024-04-16\n",
            "OpenJDK Runtime Environment (build 11.0.23+9-post-Ubuntu-1ubuntu122.04.1)\n",
            "OpenJDK 64-Bit Server VM (build 11.0.23+9-post-Ubuntu-1ubuntu122.04.1, mixed mode, sharing)\n"
          ]
        }
      ],
      "source": [
        "!apt-get update -q\n",
        "!apt-get install -y openjdk-11-jdk-headless -qq > /dev/null\n",
        "!java -version"
      ]
    },
    {
      "cell_type": "markdown",
      "source": [
        "test"
      ],
      "metadata": {
        "id": "1y70Mu1xIQeq"
      }
    },
    {
      "cell_type": "code",
      "source": [
        "%%writefile HelloWorld.java\n",
        "public class HelloWorld {\n",
        "    public static void main(String[] args) {\n",
        "        System.out.println(\"Hello, world!\");\n",
        "    }\n",
        "}\n",
        "\n",
        "!javac HelloWorld.java\n",
        "!java HelloWorld"
      ],
      "metadata": {
        "colab": {
          "base_uri": "https://localhost:8080/"
        },
        "id": "alDIzFEIISz0",
        "outputId": "e8fbf9ed-500a-4367-9a70-0748164a58bf"
      },
      "execution_count": null,
      "outputs": [
        {
          "output_type": "stream",
          "name": "stdout",
          "text": [
            "Writing HelloWorld.java\n"
          ]
        }
      ]
    },
    {
      "cell_type": "markdown",
      "source": [
        "実際に書いてみる"
      ],
      "metadata": {
        "id": "ZpI5ntWCJmZR"
      }
    },
    {
      "cell_type": "code",
      "source": [
        "import java.util.Scanner;\n",
        "\n",
        "public class SimpleCalculator {\n",
        "    public static void main(String[] args) {\n",
        "        Scanner scanner = new Scanner(System.in);\n",
        "        double num1, num2, result;\n",
        "        char operator;\n",
        "\n",
        "        System.out.println(\"簡単な計算機\");\n",
        "        System.out.print(\"最初の数字を入力: \");\n",
        "        num1 = scanner.nextDouble();\n",
        "\n",
        "        System.out.print(\"演算子を入力 (+, -, *, /): \");\n",
        "        operator = scanner.next().charAt(0);\n",
        "\n",
        "        System.out.print(\"2番目の数字を入力: \");\n",
        "        num2 = scanner.nextDouble();\n",
        "\n",
        "        switch(operator) {\n",
        "            case '+':\n",
        "                result = num1 + num2;\n",
        "                break;\n",
        "            case '-':\n",
        "                result = num1 - num2;\n",
        "                break;\n",
        "            case '*':\n",
        "                result = num1 * num2;\n",
        "                break;\n",
        "            case '/':\n",
        "                if(num2 != 0) {\n",
        "                    result = num1 / num2;\n",
        "                } else {\n",
        "                    System.out.println(\"エラー: 0で除算はできません\");\n",
        "                    return;\n",
        "                }\n",
        "                break;\n",
        "            default:\n",
        "                System.out.println(\"無効な演算子です\");\n",
        "                return;\n",
        "        }\n",
        "\n",
        "        System.out.println(\"結果: \" + result);\n",
        "        scanner.close();\n",
        "    }\n",
        "}"
      ],
      "metadata": {
        "colab": {
          "base_uri": "https://localhost:8080/",
          "height": 106
        },
        "id": "q8NLwce2Jktj",
        "outputId": "b3fe463b-90a0-471f-ceeb-c57ab3a85789"
      },
      "execution_count": null,
      "outputs": [
        {
          "output_type": "error",
          "ename": "SyntaxError",
          "evalue": "invalid syntax (<ipython-input-8-8f4851e520fd>, line 3)",
          "traceback": [
            "\u001b[0;36m  File \u001b[0;32m\"<ipython-input-8-8f4851e520fd>\"\u001b[0;36m, line \u001b[0;32m3\u001b[0m\n\u001b[0;31m    public class SimpleCalculator {\u001b[0m\n\u001b[0m           ^\u001b[0m\n\u001b[0;31mSyntaxError\u001b[0m\u001b[0;31m:\u001b[0m invalid syntax\n"
          ]
        }
      ]
    },
    {
      "cell_type": "markdown",
      "source": [
        "google colabでは失敗したため、Pythonに変換してやってみる。"
      ],
      "metadata": {
        "id": "LT5hk17pLZ0p"
      }
    },
    {
      "cell_type": "code",
      "source": [
        "print(\"簡単な計算機\")\n",
        "\n",
        "num1 = float(input(\"最初の数字を入力: \"))\n",
        "operator = input(\"演算子を入力 (+, -, *, /): \")\n",
        "num2 = float(input(\"2番目の数字を入力: \"))\n",
        "\n",
        "if operator == '+':\n",
        "    result = num1 + num2\n",
        "elif operator == '-':\n",
        "    result = num1 - num2\n",
        "elif operator == '*':\n",
        "    result = num1 * num2\n",
        "elif operator == '/':\n",
        "    if num2 != 0:\n",
        "        result = num1 / num2\n",
        "    else:\n",
        "        print(\"エラー: 0で除算はできません\")\n",
        "        exit()\n",
        "else:\n",
        "    print(\"無効な演算子です\")\n",
        "    exit()\n",
        "\n",
        "print(f\"結果: {result}\")"
      ],
      "metadata": {
        "colab": {
          "base_uri": "https://localhost:8080/"
        },
        "id": "yM5SP0T1LiRM",
        "outputId": "7086cf2f-9853-499e-aa84-e6e9e8ade3d4"
      },
      "execution_count": null,
      "outputs": [
        {
          "output_type": "stream",
          "name": "stdout",
          "text": [
            "簡単な計算機\n",
            "最初の数字を入力: 59\n",
            "演算子を入力 (+, -, *, /): +\n",
            "2番目の数字を入力: 62\n",
            "結果: 121.0\n"
          ]
        }
      ]
    },
    {
      "cell_type": "markdown",
      "source": [
        "Pythonで作成したが、物足りないのでヴィジュネル暗号の暗号機と複合機を足してみる。"
      ],
      "metadata": {
        "id": "Wxbb5Iq9Ly5o"
      }
    },
    {
      "cell_type": "code",
      "source": [
        "def vigenere_cipher(text, key, mode='encrypt'):\n",
        "    result = \"\"\n",
        "    key_length = len(key)\n",
        "    text = text.upper()\n",
        "    key = key.upper()\n",
        "\n",
        "    for i, char in enumerate(text):\n",
        "        if char.isalpha():\n",
        "            # A=0, B=1, ..., Z=25\n",
        "            text_num = ord(char) - ord('A')\n",
        "            key_num = ord(key[i % key_length]) - ord('A')\n",
        "\n",
        "            if mode == 'encrypt':\n",
        "                num = (text_num + key_num) % 26\n",
        "            else:  # decrypt\n",
        "                num = (text_num - key_num) % 26\n",
        "\n",
        "            result += chr(num + ord('A'))\n",
        "        else:\n",
        "            result += char\n",
        "\n",
        "    return result\n",
        "\n",
        "print(\"簡単な計算機 + ヴィジュネル暗号\")\n",
        "\n",
        "while True:\n",
        "    print(\"\\n操作を選択してください:\")\n",
        "    print(\"1: 基本計算\")\n",
        "    print(\"2: ヴィジュネル暗号の暗号化\")\n",
        "    print(\"3: ヴィジュネル暗号の復号化\")\n",
        "    print(\"4: 終了\")\n",
        "\n",
        "    choice = input(\"選択 (1/2/3/4): \")\n",
        "\n",
        "    if choice == '1':\n",
        "        num1 = float(input(\"最初の数字を入力: \"))\n",
        "        operator = input(\"演算子を入力 (+, -, *, /): \")\n",
        "        num2 = float(input(\"2番目の数字を入力: \"))\n",
        "\n",
        "        if operator == '+':\n",
        "            result = num1 + num2\n",
        "        elif operator == '-':\n",
        "            result = num1 - num2\n",
        "        elif operator == '*':\n",
        "            result = num1 * num2\n",
        "        elif operator == '/':\n",
        "            if num2 != 0:\n",
        "                result = num1 / num2\n",
        "            else:\n",
        "                print(\"エラー: 0で除算はできません\")\n",
        "                continue\n",
        "        else:\n",
        "            print(\"無効な演算子です\")\n",
        "            continue\n",
        "\n",
        "        print(f\"結果: {result}\")\n",
        "\n",
        "    elif choice in ['2', '3']:\n",
        "        text = input(\"テキストを入力: \")\n",
        "        key = input(\"キーを入力: \")\n",
        "        mode = 'encrypt' if choice == '2' else 'decrypt'\n",
        "        result = vigenere_cipher(text, key, mode)\n",
        "        print(f\"結果: {result}\")\n",
        "\n",
        "    elif choice == '4':\n",
        "        print(\"プログラムを終了します。\")\n",
        "        break\n",
        "\n",
        "    else:\n",
        "        print(\"無効な選択です。もう一度お試しください。\")"
      ],
      "metadata": {
        "colab": {
          "base_uri": "https://localhost:8080/"
        },
        "id": "zHd97ZN2L_1D",
        "outputId": "156726a0-cc85-4c86-ba7f-fd40f3d45da3"
      },
      "execution_count": null,
      "outputs": [
        {
          "output_type": "stream",
          "name": "stdout",
          "text": [
            "簡単な計算機 + ヴィジュネル暗号\n",
            "\n",
            "操作を選択してください:\n",
            "1: 基本計算\n",
            "2: ヴィジュネル暗号の暗号化\n",
            "3: ヴィジュネル暗号の復号化\n",
            "4: 終了\n",
            "選択 (1/2/3/4): 2\n",
            "テキストを入力: test\n",
            "キーを入力: python\n",
            "結果: ICLA\n",
            "\n",
            "操作を選択してください:\n",
            "1: 基本計算\n",
            "2: ヴィジュネル暗号の暗号化\n",
            "3: ヴィジュネル暗号の復号化\n",
            "4: 終了\n",
            "選択 (1/2/3/4): 3\n",
            "テキストを入力: test\n",
            "キーを入力: python\n",
            "結果: EGZM\n",
            "\n",
            "操作を選択してください:\n",
            "1: 基本計算\n",
            "2: ヴィジュネル暗号の暗号化\n",
            "3: ヴィジュネル暗号の復号化\n",
            "4: 終了\n",
            "選択 (1/2/3/4): ICLA\n",
            "無効な選択です。もう一度お試しください。\n",
            "\n",
            "操作を選択してください:\n",
            "1: 基本計算\n",
            "2: ヴィジュネル暗号の暗号化\n",
            "3: ヴィジュネル暗号の復号化\n",
            "4: 終了\n",
            "選択 (1/2/3/4): 3\n",
            "テキストを入力: ICLA\n",
            "キーを入力: python\n",
            "結果: TEST\n",
            "\n",
            "操作を選択してください:\n",
            "1: 基本計算\n",
            "2: ヴィジュネル暗号の暗号化\n",
            "3: ヴィジュネル暗号の復号化\n",
            "4: 終了\n",
            "選択 (1/2/3/4): 4\n",
            "プログラムを終了します。\n"
          ]
        }
      ]
    },
    {
      "cell_type": "markdown",
      "source": [
        "本題から逸れたので、計算機能の追加として関数を計算する機能を作成する。"
      ],
      "metadata": {
        "id": "qy2chQiiNp_3"
      }
    },
    {
      "cell_type": "code",
      "source": [
        "import math\n",
        "\n",
        "def basic_calc(num1, operator, num2):\n",
        "    if operator == '+':\n",
        "        return num1 + num2\n",
        "    elif operator == '-':\n",
        "        return num1 - num2\n",
        "    elif operator == '*':\n",
        "        return num1 * num2\n",
        "    elif operator == '/':\n",
        "        if num2 != 0:\n",
        "            return num1 / num2\n",
        "        else:\n",
        "            raise ValueError(\"0で除算はできません\")\n",
        "    else:\n",
        "        raise ValueError(\"無効な演算子です\")\n",
        "\n",
        "def advanced_calc(func, num):\n",
        "    if func == 'sin':\n",
        "        return math.sin(math.radians(num))\n",
        "    elif func == 'cos':\n",
        "        return math.cos(math.radians(num))\n",
        "    elif func == 'tan':\n",
        "        return math.tan(math.radians(num))\n",
        "    elif func == 'log':\n",
        "        return math.log10(num)\n",
        "    elif func == 'ln':\n",
        "        return math.log(num)\n",
        "    elif func == 'sqrt':\n",
        "        return math.sqrt(num)\n",
        "    elif func == 'exp':\n",
        "        return math.exp(num)\n",
        "    else:\n",
        "        raise ValueError(\"無効な関数です\")\n",
        "\n",
        "def vigenere_cipher(text, key, mode='encrypt'):\n",
        "    result = \"\"\n",
        "    key_length = len(key)\n",
        "    text = text.upper()\n",
        "    key = key.upper()\n",
        "\n",
        "    for i, char in enumerate(text):\n",
        "        if char.isalpha():\n",
        "            text_num = ord(char) - ord('A')\n",
        "            key_num = ord(key[i % key_length]) - ord('A')\n",
        "\n",
        "            if mode == 'encrypt':\n",
        "                num = (text_num + key_num) % 26\n",
        "            else:  # decrypt\n",
        "                num = (text_num - key_num) % 26\n",
        "\n",
        "            result += chr(num + ord('A'))\n",
        "        else:\n",
        "            result += char\n",
        "\n",
        "    return result\n",
        "\n",
        "print(\"高機能計算機 + ヴィジュネル暗号\")\n",
        "\n",
        "while True:\n",
        "    print(\"\\n操作を選択してください:\")\n",
        "    print(\"1: 基本計算\")\n",
        "    print(\"2: 高度な計算\")\n",
        "    print(\"3: ヴィジュネル暗号の暗号化\")\n",
        "    print(\"4: ヴィジュネル暗号の復号化\")\n",
        "    print(\"5: 終了\")\n",
        "\n",
        "    choice = input(\"選択 (1/2/3/4/5): \")\n",
        "\n",
        "    if choice == '1':\n",
        "        try:\n",
        "            num1 = float(input(\"最初の数字を入力: \"))\n",
        "            operator = input(\"演算子を入力 (+, -, *, /): \")\n",
        "            num2 = float(input(\"2番目の数字を入力: \"))\n",
        "            result = basic_calc(num1, operator, num2)\n",
        "            print(f\"結果: {result}\")\n",
        "        except ValueError as e:\n",
        "            print(f\"エラー: {e}\")\n",
        "\n",
        "    elif choice == '2':\n",
        "        try:\n",
        "            func = input(\"関数を入力 (sin, cos, tan, log, ln, sqrt, exp): \")\n",
        "            num = float(input(\"数値を入力: \"))\n",
        "            result = advanced_calc(func, num)\n",
        "            print(f\"結果: {result}\")\n",
        "        except ValueError as e:\n",
        "            print(f\"エラー: {e}\")\n",
        "\n",
        "    elif choice in ['3', '4']:\n",
        "        text = input(\"テキストを入力: \")\n",
        "        key = input(\"キーを入力: \")\n",
        "        mode = 'encrypt' if choice == '3' else 'decrypt'\n",
        "        result = vigenere_cipher(text, key, mode)\n",
        "        print(f\"結果: {result}\")\n",
        "\n",
        "    elif choice == '5':\n",
        "        print(\"プログラムを終了します。\")\n",
        "        break\n",
        "\n",
        "    else:\n",
        "        print(\"無効な選択です。もう一度お試しください。\")"
      ],
      "metadata": {
        "colab": {
          "base_uri": "https://localhost:8080/"
        },
        "id": "I1GmHgcYOSYm",
        "outputId": "d54458a8-d40a-4e95-b5b7-1e3915429613"
      },
      "execution_count": null,
      "outputs": [
        {
          "output_type": "stream",
          "name": "stdout",
          "text": [
            "高機能計算機 + ヴィジュネル暗号\n",
            "\n",
            "操作を選択してください:\n",
            "1: 基本計算\n",
            "2: 高度な計算\n",
            "3: ヴィジュネル暗号の暗号化\n",
            "4: ヴィジュネル暗号の復号化\n",
            "5: 終了\n",
            "選択 (1/2/3/4/5): 2\n",
            "関数を入力 (sin, cos, tan, log, ln, sqrt, exp): しｎ\n",
            "数値を入力: 90\n",
            "エラー: 無効な関数です\n",
            "\n",
            "操作を選択してください:\n",
            "1: 基本計算\n",
            "2: 高度な計算\n",
            "3: ヴィジュネル暗号の暗号化\n",
            "4: ヴィジュネル暗号の復号化\n",
            "5: 終了\n",
            "選択 (1/2/3/4/5): 2\n",
            "関数を入力 (sin, cos, tan, log, ln, sqrt, exp): sin\n",
            "数値を入力: 70\n",
            "結果: 0.9396926207859083\n",
            "\n",
            "操作を選択してください:\n",
            "1: 基本計算\n",
            "2: 高度な計算\n",
            "3: ヴィジュネル暗号の暗号化\n",
            "4: ヴィジュネル暗号の復号化\n",
            "5: 終了\n",
            "選択 (1/2/3/4/5): 5\n",
            "プログラムを終了します。\n"
          ]
        }
      ]
    },
    {
      "cell_type": "markdown",
      "source": [
        "java版ももう一回やってみる"
      ],
      "metadata": {
        "id": "oZrtF9_gSoLh"
      }
    },
    {
      "cell_type": "code",
      "source": [
        "%%writefile SimpleCalculator.java"
      ],
      "metadata": {
        "colab": {
          "base_uri": "https://localhost:8080/"
        },
        "id": "cvx6axBtSn47",
        "outputId": "8ce07826-caff-42a8-ddfd-e5e1711e09f0"
      },
      "execution_count": 13,
      "outputs": [
        {
          "output_type": "stream",
          "name": "stdout",
          "text": [
            "Writing SimpleCalculator.java\n"
          ]
        }
      ]
    },
    {
      "cell_type": "code",
      "source": [
        "%%writefile SimpleCalculator.java\n",
        "import java.util.Scanner;\n",
        "\n",
        "public class SimpleCalculator {\n",
        "    public static void main(String[] args) {\n",
        "        Scanner scanner = new Scanner(System.in);\n",
        "        double num1, num2, result;\n",
        "        char operator;\n",
        "\n",
        "        System.out.println(\"簡単な計算機\");\n",
        "        System.out.print(\"最初の数字を入力: \");\n",
        "        num1 = scanner.nextDouble();\n",
        "\n",
        "        System.out.print(\"演算子を入力 (+, -, *, /): \");\n",
        "        operator = scanner.next().charAt(0);\n",
        "\n",
        "        System.out.print(\"2番目の数字を入力: \");\n",
        "        num2 = scanner.nextDouble();\n",
        "\n",
        "        switch(operator) {\n",
        "            case '+':\n",
        "                result = num1 + num2;\n",
        "                break;\n",
        "            case '-':\n",
        "                result = num1 - num2;\n",
        "                break;\n",
        "            case '*':\n",
        "                result = num1 * num2;\n",
        "                break;\n",
        "            case '/':\n",
        "                if(num2 != 0) {\n",
        "                    result = num1 / num2;\n",
        "                } else {\n",
        "                    System.out.println(\"エラー: 0で除算はできません\");\n",
        "                    return;\n",
        "                }\n",
        "                break;\n",
        "            default:\n",
        "                System.out.println(\"無効な演算子です\");\n",
        "                return;\n",
        "        }\n",
        "\n",
        "        System.out.println(\"結果: \" + result);\n",
        "        scanner.close();\n",
        "    }\n",
        "}"
      ],
      "metadata": {
        "colab": {
          "base_uri": "https://localhost:8080/"
        },
        "id": "lDBIKe6hSxhZ",
        "outputId": "e94559fd-fcc6-468c-f055-03bcaf705088"
      },
      "execution_count": 14,
      "outputs": [
        {
          "output_type": "stream",
          "name": "stdout",
          "text": [
            "Overwriting SimpleCalculator.java\n"
          ]
        }
      ]
    },
    {
      "cell_type": "code",
      "source": [
        "!javac SimpleCalculator.java\n",
        "!java SimpleCalculator"
      ],
      "metadata": {
        "colab": {
          "base_uri": "https://localhost:8080/"
        },
        "id": "i0zrlurXS3MO",
        "outputId": "e20be6b4-867e-421d-fdc9-28bdefddedae"
      },
      "execution_count": 15,
      "outputs": [
        {
          "output_type": "stream",
          "name": "stdout",
          "text": [
            "簡単な計算機\n",
            "最初の数字を入力: 3\n",
            "演算子を入力 (+, -, *, /): -\n",
            "2番目の数字を入力: 67\n",
            "結果: -64.0\n"
          ]
        }
      ]
    },
    {
      "cell_type": "markdown",
      "source": [
        "所感\n",
        "・実際に知識がなくても作成できる\n",
        "・出力しただけでは知識がつかず、その後どのように理解し習得するかの工夫が必要\n",
        "・実際に本を読んで理解するよりかなり早いスピードで習得できる可能性がある。"
      ],
      "metadata": {
        "id": "OBGkVt1tTKk2"
      }
    }
  ]
}